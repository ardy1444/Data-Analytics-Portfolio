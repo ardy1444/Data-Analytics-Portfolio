{
  "cells": [
    {
      "cell_type": "code",
      "execution_count": null,
      "metadata": {
        "id": "0gYYcwuA1yKO"
      },
      "outputs": [],
      "source": [
        "# You'll have to create a folder named data and upload one file at a time there. Do not add multiple files.\n",
        "# In order to work with the privacy doc, one will have to copy the text, put it in a doc, save the doc as the PDF and then add that to the data folder, this is because LangChain's PDF parser\n",
        "# isn't working on the Chrome printed privacy pdf doc."
      ]
    },
    {
      "cell_type": "code",
      "execution_count": 1,
      "metadata": {},
      "outputs": [
        {
          "name": "stdout",
          "output_type": "stream",
          "text": [
            "/Users/aaradhyakhanduri/Desktop/nightwatch/analysis\n"
          ]
        }
      ],
      "source": [
        "!pwd"
      ]
    },
    {
      "cell_type": "code",
      "execution_count": null,
      "metadata": {
        "colab": {
          "base_uri": "https://localhost:8080/"
        },
        "id": "o60AgTN8mudX",
        "outputId": "5f6bce93-23e9-4b85-8d67-89fad915d6ff"
      },
      "outputs": [
        {
          "name": "stdout",
          "output_type": "stream",
          "text": [
            "\u001b[2K     \u001b[90m━━━━━━━━━━━━━━━━━━━━━━━━━━━━━━━━━━━━━━━━\u001b[0m \u001b[32m1.0/1.0 MB\u001b[0m \u001b[31m48.7 MB/s\u001b[0m eta \u001b[36m0:00:00\u001b[0m\n",
            "\u001b[2K     \u001b[90m━━━━━━━━━━━━━━━━━━━━━━━━━━━━━━━━━━━━━━━━\u001b[0m \u001b[32m1.0/1.0 MB\u001b[0m \u001b[31m74.9 MB/s\u001b[0m eta \u001b[36m0:00:00\u001b[0m\n",
            "\u001b[2K     \u001b[90m━━━━━━━━━━━━━━━━━━━━━━━━━━━━━━━━━━━━━━━━\u001b[0m \u001b[32m90.0/90.0 kB\u001b[0m \u001b[31m12.1 MB/s\u001b[0m eta \u001b[36m0:00:00\u001b[0m\n",
            "\u001b[2K     \u001b[90m━━━━━━━━━━━━━━━━━━━━━━━━━━━━━━━━━━━━━━\u001b[0m \u001b[32m114.5/114.5 kB\u001b[0m \u001b[31m13.8 MB/s\u001b[0m eta \u001b[36m0:00:00\u001b[0m\n",
            "\u001b[2K     \u001b[90m━━━━━━━━━━━━━━━━━━━━━━━━━━━━━━━━━━━━━━\u001b[0m \u001b[32m268.8/268.8 kB\u001b[0m \u001b[31m30.7 MB/s\u001b[0m eta \u001b[36m0:00:00\u001b[0m\n",
            "\u001b[2K     \u001b[90m━━━━━━━━━━━━━━━━━━━━━━━━━━━━━━━━━━━━━━\u001b[0m \u001b[32m149.6/149.6 kB\u001b[0m \u001b[31m14.8 MB/s\u001b[0m eta \u001b[36m0:00:00\u001b[0m\n",
            "\u001b[2K     \u001b[90m━━━━━━━━━━━━━━━━━━━━━━━━━━━━━━━━━━━━━━━━\u001b[0m \u001b[32m49.1/49.1 kB\u001b[0m \u001b[31m6.0 MB/s\u001b[0m eta \u001b[36m0:00:00\u001b[0m\n",
            "\u001b[?25h"
          ]
        }
      ],
      "source": [
        "!pip install langchain -q"
      ]
    },
    {
      "cell_type": "code",
      "execution_count": null,
      "metadata": {
        "colab": {
          "base_uri": "https://localhost:8080/"
        },
        "id": "LmuaOSZEomB0",
        "outputId": "122e427e-0aec-44c6-8160-a023cae06320"
      },
      "outputs": [
        {
          "name": "stdout",
          "output_type": "stream",
          "text": [
            "\u001b[?25l     \u001b[90m━━━━━━━━━━━━━━━━━━━━━━━━━━━━━━━━━━━━━━━━\u001b[0m \u001b[32m0.0/255.9 kB\u001b[0m \u001b[31m?\u001b[0m eta \u001b[36m-:--:--\u001b[0m\r\u001b[2K     \u001b[90m━━━━━━━━━━━━━━━━━━━━━━━━━━━━━━━━━━━━━━\u001b[0m \u001b[32m255.9/255.9 kB\u001b[0m \u001b[31m17.9 MB/s\u001b[0m eta \u001b[36m0:00:00\u001b[0m\n",
            "\u001b[?25h"
          ]
        }
      ],
      "source": [
        "pip install pypdf -q"
      ]
    },
    {
      "cell_type": "code",
      "execution_count": null,
      "metadata": {
        "colab": {
          "base_uri": "https://localhost:8080/"
        },
        "id": "GZVZBdgHsNr9",
        "outputId": "e4aad196-d83c-48f4-fc47-ac5c0a37490f"
      },
      "outputs": [
        {
          "name": "stdout",
          "output_type": "stream",
          "text": [
            "\u001b[?25l     \u001b[90m━━━━━━━━━━━━━━━━━━━━━━━━━━━━━━━━━━━━━━━━\u001b[0m \u001b[32m0.0/179.1 kB\u001b[0m \u001b[31m?\u001b[0m eta \u001b[36m-:--:--\u001b[0m\r\u001b[2K     \u001b[90m━━━━━━━━━━━━━━━━━━━━━━━━━━━━━━━━━━━━━━\u001b[0m \u001b[32m179.1/179.1 kB\u001b[0m \u001b[31m13.2 MB/s\u001b[0m eta \u001b[36m0:00:00\u001b[0m\n",
            "\u001b[2K     \u001b[90m━━━━━━━━━━━━━━━━━━━━━━━━━━━━━━━━━━━━━━━━\u001b[0m \u001b[32m60.0/60.0 kB\u001b[0m \u001b[31m6.7 MB/s\u001b[0m eta \u001b[36m0:00:00\u001b[0m\n",
            "\u001b[2K     \u001b[90m━━━━━━━━━━━━━━━━━━━━━━━━━━━━━━━━━━━━━━\u001b[0m \u001b[32m283.7/283.7 kB\u001b[0m \u001b[31m30.1 MB/s\u001b[0m eta \u001b[36m0:00:00\u001b[0m\n",
            "\u001b[?25h"
          ]
        }
      ],
      "source": [
        "!pip install pinecone-client -q"
      ]
    },
    {
      "cell_type": "code",
      "execution_count": null,
      "metadata": {
        "colab": {
          "base_uri": "https://localhost:8080/"
        },
        "id": "q4yEyLACsBeO",
        "outputId": "064a78c7-06bd-473d-cb13-1be97c700ebc"
      },
      "outputs": [
        {
          "name": "stdout",
          "output_type": "stream",
          "text": [
            "\u001b[?25l     \u001b[90m━━━━━━━━━━━━━━━━━━━━━━━━━━━━━━━━━━━━━━━━\u001b[0m \u001b[32m0.0/73.6 kB\u001b[0m \u001b[31m?\u001b[0m eta \u001b[36m-:--:--\u001b[0m\r\u001b[2K     \u001b[90m━━━━━━━━━━━━━━━━━━━━━━━━━━━━━━━━━━━━━━━━\u001b[0m \u001b[32m73.6/73.6 kB\u001b[0m \u001b[31m6.4 MB/s\u001b[0m eta \u001b[36m0:00:00\u001b[0m\n",
            "\u001b[?25h"
          ]
        }
      ],
      "source": [
        "!pip install openai -q"
      ]
    },
    {
      "cell_type": "code",
      "execution_count": null,
      "metadata": {
        "colab": {
          "base_uri": "https://localhost:8080/"
        },
        "id": "MkCHIDJkstXp",
        "outputId": "ec6619f6-003b-42e6-e60d-8bee80b728bb"
      },
      "outputs": [
        {
          "name": "stdout",
          "output_type": "stream",
          "text": [
            "\u001b[?25l     \u001b[90m━━━━━━━━━━━━━━━━━━━━━━━━━━━━━━━━━━━━━━━━\u001b[0m \u001b[32m0.0/1.4 MB\u001b[0m \u001b[31m?\u001b[0m eta \u001b[36m-:--:--\u001b[0m\r\u001b[2K     \u001b[90m━━━━━━━━━━━━━━━━━━━━━━━━━━━━━━━━━━━━━━━━\u001b[0m \u001b[32m1.4/1.4 MB\u001b[0m \u001b[31m57.8 MB/s\u001b[0m eta \u001b[36m0:00:00\u001b[0m\n",
            "\u001b[2K     \u001b[90m━━━━━━━━━━━━━━━━━━━━━━━━━━━━━━━━━━━━━━━━\u001b[0m \u001b[32m2.5/2.5 MB\u001b[0m \u001b[31m105.2 MB/s\u001b[0m eta \u001b[36m0:00:00\u001b[0m\n",
            "\u001b[2K     \u001b[90m━━━━━━━━━━━━━━━━━━━━━━━━━━━━━━━━━━━━━━\u001b[0m \u001b[32m101.8/101.8 kB\u001b[0m \u001b[31m13.6 MB/s\u001b[0m eta \u001b[36m0:00:00\u001b[0m\n",
            "\u001b[2K     \u001b[90m━━━━━━━━━━━━━━━━━━━━━━━━━━━━━━━━━━━━━━━━\u001b[0m \u001b[32m5.6/5.6 MB\u001b[0m \u001b[31m141.7 MB/s\u001b[0m eta \u001b[36m0:00:00\u001b[0m\n",
            "\u001b[2K     \u001b[90m━━━━━━━━━━━━━━━━━━━━━━━━━━━━━━━━━━━━━━━━\u001b[0m \u001b[32m5.6/5.6 MB\u001b[0m \u001b[31m87.0 MB/s\u001b[0m eta \u001b[36m0:00:00\u001b[0m\n",
            "\u001b[?25h  Preparing metadata (setup.py) ... \u001b[?25l\u001b[?25hdone\n",
            "\u001b[2K     \u001b[90m━━━━━━━━━━━━━━━━━━━━━━━━━━━━━━━━━━━━━━━\u001b[0m \u001b[32m10.1/10.1 MB\u001b[0m \u001b[31m118.3 MB/s\u001b[0m eta \u001b[36m0:00:00\u001b[0m\n",
            "\u001b[?25h  Preparing metadata (setup.py) ... \u001b[?25l\u001b[?25hdone\n",
            "\u001b[2K     \u001b[90m━━━━━━━━━━━━━━━━━━━━━━━━━━━━━━━━━━━━━━━━\u001b[0m \u001b[32m71.5/71.5 kB\u001b[0m \u001b[31m9.0 MB/s\u001b[0m eta \u001b[36m0:00:00\u001b[0m\n",
            "\u001b[2K     \u001b[90m━━━━━━━━━━━━━━━━━━━━━━━━━━━━━━━━━━━━━━\u001b[0m \u001b[32m238.1/238.1 kB\u001b[0m \u001b[31m27.6 MB/s\u001b[0m eta \u001b[36m0:00:00\u001b[0m\n",
            "\u001b[2K     \u001b[90m━━━━━━━━━━━━━━━━━━━━━━━━━━━━━━━━━━━━━━\u001b[0m \u001b[32m112.2/112.2 kB\u001b[0m \u001b[31m15.1 MB/s\u001b[0m eta \u001b[36m0:00:00\u001b[0m\n",
            "\u001b[?25h  Preparing metadata (setup.py) ... \u001b[?25l\u001b[?25hdone\n",
            "\u001b[2K     \u001b[90m━━━━━━━━━━━━━━━━━━━━━━━━━━━━━━━━━━━━━━\u001b[0m \u001b[32m153.0/153.0 kB\u001b[0m \u001b[31m20.3 MB/s\u001b[0m eta \u001b[36m0:00:00\u001b[0m\n",
            "\u001b[2K     \u001b[90m━━━━━━━━━━━━━━━━━━━━━━━━━━━━━━━━━━━━━━━━\u001b[0m \u001b[32m69.6/69.6 kB\u001b[0m \u001b[31m9.5 MB/s\u001b[0m eta \u001b[36m0:00:00\u001b[0m\n",
            "\u001b[2K     \u001b[90m━━━━━━━━━━━━━━━━━━━━━━━━━━━━━━━━━━━━━━━━\u001b[0m \u001b[32m51.1/51.1 kB\u001b[0m \u001b[31m7.2 MB/s\u001b[0m eta \u001b[36m0:00:00\u001b[0m\n",
            "\u001b[2K     \u001b[90m━━━━━━━━━━━━━━━━━━━━━━━━━━━━━━━━━━━━━━━━\u001b[0m \u001b[32m58.3/58.3 kB\u001b[0m \u001b[31m7.6 MB/s\u001b[0m eta \u001b[36m0:00:00\u001b[0m\n",
            "\u001b[?25h  Building wheel for python-docx (setup.py) ... \u001b[?25l\u001b[?25hdone\n",
            "  Building wheel for python-pptx (setup.py) ... \u001b[?25l\u001b[?25hdone\n",
            "  Building wheel for olefile (setup.py) ... \u001b[?25l\u001b[?25hdone\n"
          ]
        }
      ],
      "source": [
        "!pip install unstructured -q"
      ]
    },
    {
      "cell_type": "code",
      "execution_count": null,
      "metadata": {
        "colab": {
          "base_uri": "https://localhost:8080/"
        },
        "id": "fxvNgis43aaG",
        "outputId": "b5dad7f3-9738-41d8-dc86-63efa4a63bc6"
      },
      "outputs": [
        {
          "name": "stdout",
          "output_type": "stream",
          "text": [
            "\u001b[?25l     \u001b[90m━━━━━━━━━━━━━━━━━━━━━━━━━━━━━━━━━━━━━━━━\u001b[0m \u001b[32m0.0/1.7 MB\u001b[0m \u001b[31m?\u001b[0m eta \u001b[36m-:--:--\u001b[0m\r\u001b[2K     \u001b[90m━━━━━━━━━━━━━━━━━━━━━━━━━━━━━━━━━━━━━━━━\u001b[0m \u001b[32m1.7/1.7 MB\u001b[0m \u001b[31m61.6 MB/s\u001b[0m eta \u001b[36m0:00:00\u001b[0m\n",
            "\u001b[?25h"
          ]
        }
      ],
      "source": [
        "!pip install tiktoken -q\n"
      ]
    },
    {
      "cell_type": "code",
      "execution_count": null,
      "metadata": {
        "colab": {
          "base_uri": "https://localhost:8080/"
        },
        "id": "9einkZ753jIz",
        "outputId": "b3072088-a122-4aa9-f280-005c65b9f0ae"
      },
      "outputs": [
        {
          "name": "stdout",
          "output_type": "stream",
          "text": [
            "\u001b[?25l     \u001b[90m━━━━━━━━━━━━━━━━━━━━━━━━━━━━━━━━━━━━━━━━\u001b[0m \u001b[32m0.0/17.6 MB\u001b[0m \u001b[31m?\u001b[0m eta \u001b[36m-:--:--\u001b[0m\r\u001b[2K     \u001b[91m━━━━━━━━\u001b[0m\u001b[90m╺\u001b[0m\u001b[90m━━━━━━━━━━━━━━━━━━━━━━━━━━━━━━━\u001b[0m \u001b[32m3.7/17.6 MB\u001b[0m \u001b[31m109.2 MB/s\u001b[0m eta \u001b[36m0:00:01\u001b[0m\r\u001b[2K     \u001b[91m━━━━━━━━━━━━━━━━━━━\u001b[0m\u001b[91m╸\u001b[0m\u001b[90m━━━━━━━━━━━━━━━━━━━━\u001b[0m \u001b[32m8.7/17.6 MB\u001b[0m \u001b[31m124.1 MB/s\u001b[0m eta \u001b[36m0:00:01\u001b[0m\r\u001b[2K     \u001b[91m━━━━━━━━━━━━━━━━━━━━━━━━━━━━━━━━━\u001b[0m\u001b[90m╺\u001b[0m\u001b[90m━━━━━\u001b[0m \u001b[32m14.9/17.6 MB\u001b[0m \u001b[31m166.7 MB/s\u001b[0m eta \u001b[36m0:00:01\u001b[0m\r\u001b[2K     \u001b[91m━━━━━━━━━━━━━━━━━━━━━━━━━━━━━━━━━━━━━━\u001b[0m\u001b[91m╸\u001b[0m \u001b[32m17.6/17.6 MB\u001b[0m \u001b[31m141.3 MB/s\u001b[0m eta \u001b[36m0:00:01\u001b[0m\r\u001b[2K     \u001b[91m━━━━━━━━━━━━━━━━━━━━━━━━━━━━━━━━━━━━━━\u001b[0m\u001b[91m╸\u001b[0m \u001b[32m17.6/17.6 MB\u001b[0m \u001b[31m141.3 MB/s\u001b[0m eta \u001b[36m0:00:01\u001b[0m\r\u001b[2K     \u001b[90m━━━━━━━━━━━━━━━━━━━━━━━━━━━━━━━━━━━━━━━━\u001b[0m \u001b[32m17.6/17.6 MB\u001b[0m \u001b[31m78.4 MB/s\u001b[0m eta \u001b[36m0:00:00\u001b[0m\n",
            "\u001b[?25h"
          ]
        }
      ],
      "source": [
        "!pip install faiss-cpu -q"
      ]
    },
    {
      "cell_type": "code",
      "execution_count": null,
      "metadata": {
        "id": "4NhxjpkNkQvM"
      },
      "outputs": [],
      "source": [
        "from langchain.embeddings.openai import OpenAIEmbeddings\n",
        "from langchain.vectorstores import FAISS\n",
        "from langchain.text_splitter import RecursiveCharacterTextSplitter\n",
        "from langchain import OpenAI\n",
        "from langchain.chains import RetrievalQA\n",
        "from langchain.document_loaders import DirectoryLoader\n",
        "import magic\n",
        "import os\n",
        "import nltk\n",
        "\n",
        "openai_api_key = os.getenv(\"OPENAI_API_KEY\", \"key\")\n"
      ]
    },
    {
      "cell_type": "code",
      "execution_count": null,
      "metadata": {
        "colab": {
          "base_uri": "https://localhost:8080/"
        },
        "id": "zhudhtDSkZa-",
        "outputId": "e2069ac3-3005-4ed6-b2b3-3fda70392f50"
      },
      "outputs": [
        {
          "name": "stderr",
          "output_type": "stream",
          "text": [
            "[nltk_data] Downloading package punkt to /root/nltk_data...\n",
            "[nltk_data]   Unzipping tokenizers/punkt.zip.\n",
            "[nltk_data] Downloading package averaged_perceptron_tagger to\n",
            "[nltk_data]     /root/nltk_data...\n",
            "[nltk_data]   Unzipping taggers/averaged_perceptron_tagger.zip.\n"
          ]
        },
        {
          "data": {
            "text/plain": [
              "1"
            ]
          },
          "execution_count": 9,
          "metadata": {},
          "output_type": "execute_result"
        }
      ],
      "source": [
        "directory = '/content/data'\n",
        "\n",
        "def load_docs(directory):\n",
        "  loader = DirectoryLoader(directory)\n",
        "  documents = loader.load()\n",
        "  return documents\n",
        "\n",
        "documents = load_docs(directory)\n",
        "len(documents)\n"
      ]
    },
    {
      "cell_type": "code",
      "execution_count": null,
      "metadata": {
        "colab": {
          "base_uri": "https://localhost:8080/"
        },
        "id": "-XqK5soLkZW7",
        "outputId": "c4342a7f-613d-4cd0-e0dd-8c83ff41e068"
      },
      "outputs": [
        {
          "name": "stdout",
          "output_type": "stream",
          "text": [
            "99\n"
          ]
        }
      ],
      "source": [
        "def split_docs(documents, chunk_size=1000, chunk_overlap=20):\n",
        "  text_splitter = RecursiveCharacterTextSplitter(chunk_size=chunk_size, chunk_overlap=chunk_overlap)\n",
        "  docs = text_splitter.split_documents(documents)\n",
        "  return docs\n",
        "\n",
        "docs = split_docs(documents)\n",
        "print(len(docs))\n"
      ]
    },
    {
      "cell_type": "code",
      "execution_count": null,
      "metadata": {
        "id": "DQHpYI5ekZQ6"
      },
      "outputs": [],
      "source": [
        "embeddings = OpenAIEmbeddings(openai_api_key=\"key\")"
      ]
    },
    {
      "cell_type": "code",
      "execution_count": null,
      "metadata": {
        "id": "saBD5_-2kZMj"
      },
      "outputs": [],
      "source": [
        "docsearch = FAISS.from_documents(docs, embeddings)\n"
      ]
    },
    {
      "cell_type": "code",
      "execution_count": null,
      "metadata": {
        "id": "FecCW3IokZKc"
      },
      "outputs": [],
      "source": [
        "llm = OpenAI(openai_api_key=openai_api_key, max_tokens=1000)\n"
      ]
    },
    {
      "cell_type": "code",
      "execution_count": null,
      "metadata": {
        "id": "HlDEnHhkkZIh"
      },
      "outputs": [],
      "source": [
        "qa = RetrievalQA.from_chain_type(llm=llm,\n",
        "                                chain_type=\"stuff\",\n",
        "                                retriever=docsearch.as_retriever(),\n",
        "                                return_source_documents=True,)\n",
        "# query = \"What data of mine is snapchat accessing?\"\n",
        "# result = qa({\"query\": query})"
      ]
    },
    {
      "cell_type": "code",
      "execution_count": null,
      "metadata": {
        "id": "2zeuZbjPABCS"
      },
      "outputs": [],
      "source": [
        "# Query for privacy agreement\n",
        "\n",
        "query = \"\"\"\n",
        "You are a detective, tell me if the document provided mentions of any risks to me as per the below mentioned categories?\n",
        "Score the risk out of 10, also mention the text from which you have concluded that.\n",
        "Also, what is the worst thing that can happen?\n",
        "\n",
        "Categories of risk are:\n",
        "1. Personal Information Misuse\n",
        "2. Device/Location Data Invasion\n",
        "3. Content Misuse\n",
        "4. Third-party Data Misuse\n",
        "\n",
        "format of the answer should be like:\n",
        "\n",
        "Worst thing: Worst thing that can happen to me\n",
        "\n",
        "1. Personal Information Misuse: 2/10\n",
        "    Text:\n",
        "2. Device/Location Data Invasion: 2/10\n",
        "    Text:\n",
        "3. Content Misuse: 2/10\n",
        "    Text:\n",
        "4. Third-party Data Misuse: 2/10\n",
        "    Text:\n",
        "\n",
        "\"\"\"\n",
        "\n",
        "result = qa({\"query\": query})"
      ]
    },
    {
      "cell_type": "code",
      "execution_count": null,
      "metadata": {
        "id": "mqmq6kV5Ca6l"
      },
      "outputs": [],
      "source": [
        "# Query for Rent lease agreement\n",
        "\n",
        "query = \"\"\"\n",
        "You are a detective, tell me if the document provided mentions of any risks to me belonging to any of the following catergories?\n",
        "Score the risk out of 10, also mention the text from which you have concluded that.\n",
        "What is the worst thing that can happen to me?\n",
        "\n",
        "Potential risk categories:\n",
        "1. Lease Obligations\n",
        "2. Financial Obligations\n",
        "3. Property Condition\n",
        "4. Lease Termination\n",
        "5. Subleasing Restrictions\n",
        "6. Default Consequences\n",
        "7. Unfavorable Renewal Terms\n",
        "8. Limited Control over Property\n",
        "9. Insurance Requirements\n",
        "10. Dispute Resolution\n",
        "11. Lack of Privacy\n",
        "12. Liability for Damages\n",
        "13. Lack of Renewal Options\n",
        "14. Rent Increases\n",
        "15. Relocation Restrictions\n",
        "16. Inadequate Maintenance\n",
        "17. Unfair Eviction Process\n",
        "18. Noise or Nuisance Issues\n",
        "19. Unforeseen Circumstances\n",
        "20. Ambiguity in Lease Terms\n",
        "\n",
        "format of the answer should be like:\n",
        "\n",
        "Worst thing: Worst thing that can happen to me as per the document.\n",
        "\n",
        "1. Risk category one: 2/10\n",
        "    Text:\n",
        "2. Risk category two: 2/10\n",
        "    Text:\n",
        "3. Risk category three: 2/10\n",
        "    Text:\n",
        "\n",
        "\"\"\"\n",
        "\n",
        "result = qa({\"query\": query})"
      ]
    },
    {
      "cell_type": "code",
      "execution_count": null,
      "metadata": {
        "colab": {
          "base_uri": "https://localhost:8080/"
        },
        "id": "P6Mul1gH9D3-",
        "outputId": "6a029e68-0dcc-4df6-c6b5-ec2b080bfdcf"
      },
      "outputs": [
        {
          "name": "stdout",
          "output_type": "stream",
          "text": [
            "\n",
            "You are a detective, tell me if the document provided mentions of any risks to me as per the below mentioned categories?\n",
            "Score the risk out of 10, also mention the text from which you have concluded that.\n",
            "Also, what is the worst thing that can happen if i use snapchat?\n",
            "\n",
            "Categories of risk are:\n",
            "1. Personal Information Misuse\n",
            "2. Device/Location Data Invasion\n",
            "3. Content Misuse\n",
            "4. Third-party Data Misuse\n",
            "\n",
            "format of the answer should be like:\n",
            "\n",
            "Worst thing: Worst thing that can happen to me\n",
            "\n",
            "1. Personal Information Misuse: 2/10\n",
            "    Text:\n",
            "2. Device/Location Data Invasion: 2/10\n",
            "    Text:\n",
            "3. Content Misuse: 2/10\n",
            "    Text:\n",
            "4. Third-party Data Misuse: 2/10\n",
            "    Text:\n",
            "\n",
            "\n"
          ]
        }
      ],
      "source": [
        "print(result[\"query\"])"
      ]
    },
    {
      "cell_type": "code",
      "execution_count": null,
      "metadata": {
        "colab": {
          "base_uri": "https://localhost:8080/"
        },
        "id": "vAoUPaB89UZO",
        "outputId": "461c6030-45bb-4fb6-9021-00e331a1896f"
      },
      "outputs": [
        {
          "name": "stdout",
          "output_type": "stream",
          "text": [
            "\n",
            "Worst thing: The worst thing that can happen to me as per the document is that the term of the lease will cease and come to an end in the event of a condemnation or taking for public use. \n",
            "\n",
            "1. Lease Obligations: 10/10 \n",
            "    Text: \"Resident(s) agree to report immediately all suspected or actual criminal activity to the appropriate local law enforcement agencies and, after doing so, to Landlord, and shall provide Landlord with such law enforcement agency’s incident report number upon request.\" \n",
            "2. Financial Obligations: 10/10 \n",
            "    Text: \"If you don't pay rent or any other payment required to be made by you, landlord may continue this Agreement in effect after your breach and abandonment and recover rent specified in this Agreement as it becomes due, if you have the right to sublet or assign, subject only to reasonable limitations.\" \n",
            "3. Property Condition: 0/10 \n",
            "    Text: None. \n",
            "4. Lease Termination: 7/10 \n",
            "    Text: \"Should the land whereon the building containing the Premises is situated, or any part thereof, or any portion of the Apartment Community, be condemned or taken for public use, then, in that event, upon the taking of same for such public use, this Lease, at the option of Landlord, shall be deemed null and void, and the term shall cease and come to an end, notwithstanding anything to the contrary herein, and without apportionment of the award.\" \n",
            "5. Subleasing Restrictions: 0/10 \n",
            "    Text: None. \n",
            "6. Default Consequences: 7/10 \n",
            "    Text: \"In the event of any such default by Resident(s), then in addition to any other remedies available to Landlord or at law in equity, Landlord may: Continue this Agreement in effect after Resident(s)breach and abandonment and recover rent specified in this Agreement as it becomes due, if Resident(s) have the right to sublet or assign, subject only to reasonable limitations.\" \n",
            "7. Unfavorable Renewal Terms: 0/10 \n",
            "    Text: None. \n",
            "8. Limited Control over Property: 0/10 \n",
            "    Text: None. \n",
            "9. Insurance Requirements: 0/10 \n",
            "    Text: None. \n",
            "10. Dispute Resolution: 0/10 \n",
            "    Text: None. \n",
            "11. Lack of Privacy: 0/10 \n",
            "    Text: None. \n",
            "12. Liability for Damages: 0/10 \n",
            "    Text: None. \n",
            "13. Lack of Renewal Options: 0/10 \n",
            "    Text: None. \n",
            "14. Rent Increases: 0/10 \n",
            "    Text: None. \n",
            "15. Relocation Restrictions: 0/10 \n",
            "    Text: None. \n",
            "16. Inadequate Maintenance: 0/10 \n",
            "    Text: None. \n",
            "17. Unfair Eviction Process: 0/10 \n",
            "    Text: None. \n",
            "18. Noise or Nuisance Issues: 0/10 \n",
            "    Text: None. \n",
            "19. Unforeseen Circumstances: 0/10 \n",
            "    Text: None. \n",
            "20. Ambiguity in Lease Terms: 0/10 \n",
            "    Text: None.\n"
          ]
        }
      ],
      "source": [
        "print(result[\"result\"])"
      ]
    },
    {
      "cell_type": "code",
      "execution_count": null,
      "metadata": {
        "colab": {
          "base_uri": "https://localhost:8080/"
        },
        "id": "AA-0dgeH9US_",
        "outputId": "165096f8-f31f-488f-f596-74f3b9cd1e61"
      },
      "outputs": [
        {
          "name": "stdout",
          "output_type": "stream",
          "text": [
            "page_content=\"services.\\n\\nSend you communications, including by email or SMS where permitted. For example, we may use email or SMS to respond to support enquiries or to share information about our products, services and promotional offers that we think may interest you. ● Monitor and analyse trends and usage. ● personalize our services by, among other things, suggesting friends,\\n\\nprofile information, or Bitmoji stickers, helping Snapchatters find each other in Snapchat, affiliate and third-party apps and services, or customising the content we show you, including ads.\\n\\nAdd context to your Snapchat experience, for example by tagging your Memories with searchable labels based on your location (of course, if you've given us permission to collect your location) and the content of your photo or video (e.g., if there's a dog in your photo, it may be searchable in Memories under the term “dog”).\" metadata={'source': '/content/data/Untitled document.pdf'}\n"
          ]
        }
      ],
      "source": [
        "print(result[\"source_documents\"][0])"
      ]
    },
    {
      "cell_type": "code",
      "execution_count": null,
      "metadata": {
        "colab": {
          "base_uri": "https://localhost:8080/"
        },
        "id": "zQTI0hCt9-h9",
        "outputId": "054cae1b-bdb2-4a84-fe9b-a768d722f4e4"
      },
      "outputs": [
        {
          "data": {
            "text/plain": [
              "Document(page_content=\"services.\\n\\nSend you communications, including by email or SMS where permitted. For example, we may use email or SMS to respond to support enquiries or to share information about our products, services and promotional offers that we think may interest you. ● Monitor and analyse trends and usage. ● personalize our services by, among other things, suggesting friends,\\n\\nprofile information, or Bitmoji stickers, helping Snapchatters find each other in Snapchat, affiliate and third-party apps and services, or customising the content we show you, including ads.\\n\\nAdd context to your Snapchat experience, for example by tagging your Memories with searchable labels based on your location (of course, if you've given us permission to collect your location) and the content of your photo or video (e.g., if there's a dog in your photo, it may be searchable in Memories under the term “dog”).\", metadata={'source': '/content/data/Untitled document.pdf'})"
            ]
          },
          "execution_count": 78,
          "metadata": {},
          "output_type": "execute_result"
        }
      ],
      "source": [
        "result[\"source_documents\"][0]"
      ]
    },
    {
      "cell_type": "code",
      "execution_count": null,
      "metadata": {
        "colab": {
          "base_uri": "https://localhost:8080/"
        },
        "id": "uF6xP92r_UxI",
        "outputId": "54e482a8-c615-4e1e-d357-c343a196383d"
      },
      "outputs": [
        {
          "data": {
            "text/plain": [
              "Document(page_content='your Snapchat “score”, the names of Snapchatters you are friends with, how close you are with your friends on Snapchat, your recent location history (if you choose to share your location on Snap Map) and other information that will help Snapchatters understand your connections with others using our services. For example, because it may not be clear whether a new friend request comes from someone you actually know, we may share whether you and the requester have Snapchat friends in common.\\n\\nInformation about your device, such as the operating system and device type, to help you receive Chats, Snaps and other content in the optimal viewing format.\\n\\nAny additional information you have directed us to share. For example, Snap will share your information when you connect your Snapchat account to a third-party app and if you share information or content from Snapchat to the third-party app.\\n\\nContent you post or send. How widely your content is shared depends on', metadata={'source': '/content/data/Untitled document.pdf'})"
            ]
          },
          "execution_count": 79,
          "metadata": {},
          "output_type": "execute_result"
        }
      ],
      "source": [
        "result[\"source_documents\"][1]"
      ]
    },
    {
      "cell_type": "code",
      "execution_count": null,
      "metadata": {
        "colab": {
          "base_uri": "https://localhost:8080/"
        },
        "id": "lw7uEgpr_WYQ",
        "outputId": "71a8fcc9-a98b-4816-df1f-5d82c4764ff6"
      },
      "outputs": [
        {
          "data": {
            "text/plain": [
              "Document(page_content='Provide and improve our advertising services, ad targeting and ad measurement, including through the use of your precise location information (again, if you’ve given us permission to collect that information), both on and off our services. We may also store information about your use of third-party apps and websites on your device to do this. Learn more. See the Control Over Your Information section below for more information about Snap Inc.’s advertising practices and your choices.\\n\\nEnhance the safety and security of our products and services. ● verify your identity and prevent fraud or other unauthorised or illegal\\n\\nactivity.\\n\\nUse information we’ve collected from cookies and other technology to\\n\\nenhance our services and your experience with them.\\n\\nEnforce, investigate and report conduct violating our Terms of Service\\n\\nand other usage policies, respond to requests from law enforcement and comply with legal requirements.', metadata={'source': '/content/data/Untitled document.pdf'})"
            ]
          },
          "execution_count": 80,
          "metadata": {},
          "output_type": "execute_result"
        }
      ],
      "source": [
        "result[\"source_documents\"][2]"
      ]
    },
    {
      "cell_type": "code",
      "execution_count": null,
      "metadata": {
        "colab": {
          "base_uri": "https://localhost:8080/"
        },
        "id": "77pHdfvDkWdc",
        "outputId": "febc832f-9446-4f87-a6bc-3251e05e66a4"
      },
      "outputs": [
        {
          "data": {
            "text/plain": [
              "{'query': '\\nYou are a detective, as per the document probvided, is snapchat causing the below mentioned risks?\\nIf yes, give true, else false\\nAlso, what is the worst thing that can happen if i use snapchat?\\n\\nCategories of risk are:\\n1. Personal Information Misuse\\n2. Device/Location Data Invasion\\n3. Content Misuse\\n4. Third-party Data Misuse\\n\\nformat of the answer should be like:\\n\\nWorst thing: Worst thing that can happen to me\\n\\n1. Personal Information Misuse: True or False\\n2. Device/Location Data Invasion: True or False\\n3. Content Misuse: True or False\\n4. Third-party Data Misuse: True or False\\n\\n',\n",
              " 'result': '\\nWorst thing: Worst thing that can happen to me if I use Snapchat is that my personal information, device/location data, content and third-party data could be misused.\\n\\n1. Personal Information Misuse: True\\n2. Device/Location Data Invasion: True\\n3. Content Misuse: True\\n4. Third-party Data Misuse: True',\n",
              " 'source_documents': [Document(page_content=\"services.\\n\\nSend you communications, including by email or SMS where permitted. For example, we may use email or SMS to respond to support enquiries or to share information about our products, services and promotional offers that we think may interest you. ● Monitor and analyse trends and usage. ● personalize our services by, among other things, suggesting friends,\\n\\nprofile information, or Bitmoji stickers, helping Snapchatters find each other in Snapchat, affiliate and third-party apps and services, or customising the content we show you, including ads.\\n\\nAdd context to your Snapchat experience, for example by tagging your Memories with searchable labels based on your location (of course, if you've given us permission to collect your location) and the content of your photo or video (e.g., if there's a dog in your photo, it may be searchable in Memories under the term “dog”).\", metadata={'source': '/content/data/Untitled document.pdf'}),\n",
              "  Document(page_content='your Snapchat “score”, the names of Snapchatters you are friends with, how close you are with your friends on Snapchat, your recent location history (if you choose to share your location on Snap Map) and other information that will help Snapchatters understand your connections with others using our services. For example, because it may not be clear whether a new friend request comes from someone you actually know, we may share whether you and the requester have Snapchat friends in common.\\n\\nInformation about your device, such as the operating system and device type, to help you receive Chats, Snaps and other content in the optimal viewing format.\\n\\nAny additional information you have directed us to share. For example, Snap will share your information when you connect your Snapchat account to a third-party app and if you share information or content from Snapchat to the third-party app.\\n\\nContent you post or send. How widely your content is shared depends on', metadata={'source': '/content/data/Untitled document.pdf'}),\n",
              "  Document(page_content='Provide and improve our advertising services, ad targeting and ad measurement, including through the use of your precise location information (again, if you’ve given us permission to collect that information), both on and off our services. We may also store information about your use of third-party apps and websites on your device to do this. Learn more. See the Control Over Your Information section below for more information about Snap Inc.’s advertising practices and your choices.\\n\\nEnhance the safety and security of our products and services. ● verify your identity and prevent fraud or other unauthorised or illegal\\n\\nactivity.\\n\\nUse information we’ve collected from cookies and other technology to\\n\\nenhance our services and your experience with them.\\n\\nEnforce, investigate and report conduct violating our Terms of Service\\n\\nand other usage policies, respond to requests from law enforcement and comply with legal requirements.', metadata={'source': '/content/data/Untitled document.pdf'}),\n",
              "  Document(page_content='your personal settings and the type of service you are using. For example, a Snap may be sent to just a single friend you select, but your My Story content may be seen by any Snapchatter whom you allow to see your My Story.\\n\\nWith all Snapchatters, our business partners and the general public. We may share the following information with all Snapchatters, as well as with our business partners and the public:\\n\\nPublic information like your name, username, profile pictures, Snapcode\\n\\nand Public Profile.\\n\\nPublic content like your Highlights, Custom Stickers, Lenses, Story\\n\\nsubmissions that are set to be viewable by Everyone and any content that you submit to an inherently public service, like Spotlight, Snap Map and other crowdsourced services. This content may be viewed, used and shared by the public at large both on and off our services, including through search results, on websites, in apps and in online and offline broadcasts.', metadata={'source': '/content/data/Untitled document.pdf'})]}"
            ]
          },
          "execution_count": 69,
          "metadata": {},
          "output_type": "execute_result"
        }
      ],
      "source": [
        "result"
      ]
    },
    {
      "cell_type": "code",
      "execution_count": null,
      "metadata": {
        "id": "h_EKYM_446Tn"
      },
      "outputs": [],
      "source": []
    }
  ],
  "metadata": {
    "colab": {
      "provenance": []
    },
    "kernelspec": {
      "display_name": "Python 3",
      "name": "python3"
    },
    "language_info": {
      "codemirror_mode": {
        "name": "ipython",
        "version": 3
      },
      "file_extension": ".py",
      "mimetype": "text/x-python",
      "name": "python",
      "nbconvert_exporter": "python",
      "pygments_lexer": "ipython3",
      "version": "3.8.8"
    }
  },
  "nbformat": 4,
  "nbformat_minor": 0
}
